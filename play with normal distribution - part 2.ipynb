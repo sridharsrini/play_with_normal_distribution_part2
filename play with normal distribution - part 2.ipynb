{
 "cells": [
  {
   "cell_type": "code",
   "execution_count": 1,
   "metadata": {},
   "outputs": [],
   "source": [
    "import warnings\n",
    "warnings.filterwarnings(\"ignore\")"
   ]
  },
  {
   "cell_type": "code",
   "execution_count": 2,
   "metadata": {},
   "outputs": [],
   "source": [
    "import numpy as np\n",
    "from scipy import stats\n",
    "import random\n",
    "import matplotlib.pyplot as plt\n",
    "import seaborn as sns"
   ]
  },
  {
   "cell_type": "markdown",
   "metadata": {},
   "source": [
    "# Experiment : Avg time taken to reach office\n",
    "\n",
    "Take a sample of 'n' people, ask them to record the time taken from waking up to reaching their office desk over a period of  'wd' working days.\n",
    "\n",
    "The data is captured for 5 types of activities: [a] getting ready, [b] commuting from home to office, [c] parking vehicle, [d] taking a lift to the floor, [e] signing in and walking to their assigned desk.\n",
    "\n",
    "For each of these uniform distribution is assumed."
   ]
  },
  {
   "cell_type": "code",
   "execution_count": 3,
   "metadata": {},
   "outputs": [],
   "source": [
    "# generate data\n",
    "n = 10000 # participants\n",
    "wd = 200 # working days in a year\n",
    "getready = np.random.uniform(low=20,high=60,size=n*wd).reshape(n,wd)\n",
    "commute = np.random.uniform(low=15,high=30,size=n*wd).reshape(n,wd)\n",
    "park = np.random.uniform(low=1,high=5,size=n*wd).reshape(n,wd)\n",
    "lift = np.random.uniform(low=2,high=6,size=n*wd).reshape(n,wd)\n",
    "signin = np.random.uniform(low=0,high=3,size=n*wd).reshape(n,wd)\n",
    "total = getready + commute + park + lift + signin"
   ]
  },
  {
   "cell_type": "code",
   "execution_count": 4,
   "metadata": {},
   "outputs": [
    {
     "data": {
      "text/plain": [
       "(10000, 200)"
      ]
     },
     "execution_count": 4,
     "metadata": {},
     "output_type": "execute_result"
    }
   ],
   "source": [
    "# this array now has rows representing each participant and columns representing working days in the year\n",
    "# each value here is the time elapsed from waking up to reaching office desk for a participant on a particular day.\n",
    "total.shape"
   ]
  },
  {
   "cell_type": "code",
   "execution_count": 5,
   "metadata": {},
   "outputs": [
    {
     "data": {
      "text/plain": [
       "(10000,)"
      ]
     },
     "execution_count": 5,
     "metadata": {},
     "output_type": "execute_result"
    }
   ],
   "source": [
    "# average across days so for each participant we get the average time elapsed\n",
    "avgtime = np.mean(total,axis=1)\n",
    "avgtime.shape"
   ]
  },
  {
   "cell_type": "code",
   "execution_count": 6,
   "metadata": {},
   "outputs": [
    {
     "data": {
      "text/plain": [
       "(67.30178335796187, 74.05023621002496)"
      ]
     },
     "execution_count": 6,
     "metadata": {},
     "output_type": "execute_result"
    }
   ],
   "source": [
    "# min and max values\n",
    "np.min(avgtime), np.max(avgtime)"
   ]
  },
  {
   "cell_type": "markdown",
   "metadata": {},
   "source": [
    "# Test if this data is normally distributed"
   ]
  },
  {
   "cell_type": "code",
   "execution_count": 7,
   "metadata": {},
   "outputs": [
    {
     "data": {
      "text/plain": [
       "ShapiroResult(statistic=0.9997490644454956, pvalue=0.27547115087509155)"
      ]
     },
     "execution_count": 7,
     "metadata": {},
     "output_type": "execute_result"
    }
   ],
   "source": [
    "# Ho of shapiro test is data comes from a normal distribution \n",
    "\n",
    "stats.shapiro(avgtime)"
   ]
  },
  {
   "cell_type": "markdown",
   "metadata": {},
   "source": [
    "#### Since the p-value is > 0.05 we do not reject the null hypothesis i.e. in simple terms data is normal\n",
    "As Joshua of StatQuest says \"Bam!\""
   ]
  },
  {
   "cell_type": "code",
   "execution_count": 8,
   "metadata": {},
   "outputs": [],
   "source": [
    "# property: normal distribution is symmetrical about its mean\n",
    "# let us see the shape of the data by plotting"
   ]
  },
  {
   "cell_type": "code",
   "execution_count": 9,
   "metadata": {},
   "outputs": [
    {
     "data": {
      "image/png": "[encoded data removed]",
      "text/plain": [
       "<Figure size 360x360 with 1 Axes>"
      ]
     },
     "metadata": {
      "needs_background": "light"
     },
     "output_type": "display_data"
    }
   ],
   "source": [
    "sns.displot(avgtime, kind='kde');"
   ]
  },
  {
   "cell_type": "code",
   "execution_count": 10,
   "metadata": {},
   "outputs": [
    {
     "data": {
      "image/png": "[encoded data removed]",
      "text/plain": [
       "<Figure size 432x288 with 1 Axes>"
      ]
     },
     "metadata": {
      "needs_background": "light"
     },
     "output_type": "display_data"
    }
   ],
   "source": [
    "plt.hist(avgtime, bins = 10);"
   ]
  },
  {
   "cell_type": "markdown",
   "metadata": {},
   "source": [
    "### property: in normal distributions mean and median are equal"
   ]
  },
  {
   "cell_type": "code",
   "execution_count": 11,
   "metadata": {},
   "outputs": [
    {
     "data": {
      "text/plain": [
       "(70.97927766639029, 70.97390357964434)"
      ]
     },
     "execution_count": 11,
     "metadata": {},
     "output_type": "execute_result"
    }
   ],
   "source": [
    "np.mean(avgtime), np.median(avgtime) # these are very close"
   ]
  },
  {
   "cell_type": "markdown",
   "metadata": {},
   "source": [
    "### property: for continuous distributions the probability of a particular value occuring is zero"
   ]
  },
  {
   "cell_type": "code",
   "execution_count": 12,
   "metadata": {},
   "outputs": [
    {
     "name": "stdout",
     "output_type": "stream",
     "text": [
      "randomly generated value is  [70.21268606]\n"
     ]
    },
    {
     "data": {
      "text/plain": [
       "0.0"
      ]
     },
     "execution_count": 12,
     "metadata": {},
     "output_type": "execute_result"
    }
   ],
   "source": [
    "# let us select a value between the min and max of avgtime data and check this\n",
    "val = np.random.uniform(min(avgtime),max(avgtime),1)\n",
    "print(\"randomly generated value is \", val)\n",
    "# we now look for that value in the dataset. chances of finding that exact value is low. hence probability is zero.\n",
    "np.sum([avgtime==val]) / len(avgtime) # this computes the probability of spotting \"val\" in the dataset"
   ]
  },
  {
   "cell_type": "code",
   "execution_count": 13,
   "metadata": {},
   "outputs": [
    {
     "name": "stdout",
     "output_type": "stream",
     "text": [
      "mean : 70.97927766639029  and sigma : 0.8872681536811979\n"
     ]
    }
   ],
   "source": [
    "# compute the mean and standard deviation of the dataset\n",
    "mu = np.mean(avgtime)\n",
    "s = np.std(avgtime)\n",
    "print(\"mean :\", mu,\" and sigma :\",s)"
   ]
  },
  {
   "cell_type": "markdown",
   "metadata": {},
   "source": [
    "### property: area under bell curve within 1 sigma from mean is 68.3%"
   ]
  },
  {
   "cell_type": "code",
   "execution_count": 14,
   "metadata": {},
   "outputs": [
    {
     "data": {
      "text/plain": [
       "0.6777"
      ]
     },
     "execution_count": 14,
     "metadata": {},
     "output_type": "execute_result"
    }
   ],
   "source": [
    "# let us test this in our dataset\n",
    "# area under normal curve represents probability. Here we are exploring probability in a simple understand way by computing\n",
    "# proportions. The denominator is the # of data elements in the dataset. Numerator is the count that satisfies the\n",
    "# condition. So numerator is \"how many of the values fall within 1 std dev from the mean of this dataset?\"\n",
    "\n",
    "np.sum([(avgtime<mu+1*s) & (avgtime>mu - 1*s)]) / len(avgtime) # that is close to expected"
   ]
  },
  {
   "cell_type": "markdown",
   "metadata": {},
   "source": [
    "### property: area under bell curve within 2 sigmas from mean is 95.4%"
   ]
  },
  {
   "cell_type": "code",
   "execution_count": 15,
   "metadata": {},
   "outputs": [
    {
     "data": {
      "text/plain": [
       "0.9567"
      ]
     },
     "execution_count": 15,
     "metadata": {},
     "output_type": "execute_result"
    }
   ],
   "source": [
    "# let us test this in our dataset\n",
    "np.sum([(avgtime<mu + 2*s) & (avgtime>mu - 2*s)]) / len(avgtime)"
   ]
  },
  {
   "cell_type": "markdown",
   "metadata": {},
   "source": [
    "### property: area under bell curve within 3 sigmas from mean is 99.7%"
   ]
  },
  {
   "cell_type": "code",
   "execution_count": 16,
   "metadata": {},
   "outputs": [
    {
     "data": {
      "text/plain": [
       "0.9978"
      ]
     },
     "execution_count": 16,
     "metadata": {},
     "output_type": "execute_result"
    }
   ],
   "source": [
    "# let us test this in our dataset\n",
    "np.sum([(avgtime<mu + 3*s) & (avgtime>mu - 3*s)]) / len(avgtime)"
   ]
  },
  {
   "cell_type": "markdown",
   "metadata": {},
   "source": [
    "# understanding probability density function\n",
    "\n",
    "When we deal with continuous data (simply put, decimal data instead of integer data) the probability distributions are represented as values on horizontal axis and probability density on vertical axis. The probability itself is computed as area under the curve."
   ]
  },
  {
   "cell_type": "markdown",
   "metadata": {},
   "source": [
    "<img src='normalcurvearea.png' width=\"300\" height=\"300\" align=\"center\"/>"
   ]
  },
  {
   "cell_type": "code",
   "execution_count": 17,
   "metadata": {},
   "outputs": [
    {
     "name": "stdout",
     "output_type": "stream",
     "text": [
      "lower and upper limits of the slice are  70.88517676427622  and  71.06263039501246\n",
      "height of curve near at the median is :  0.471672513279873\n"
     ]
    }
   ],
   "source": [
    "# get the density at a given point\n",
    "# in the data we generated, the peak occurs at the middle. we take a small slice, between lower limit LL and upper limit UL\n",
    "# compute the area as the proportion of data points in that range. Use that to get the density i.e. the height\n",
    "\n",
    "# LL and UL\n",
    "LL = np.median(avgtime) - 0.1*s\n",
    "UL = np.median(avgtime) + 0.1*s\n",
    "print(\"lower and upper limits of the slice are \", LL,\" and \", UL)\n",
    "\n",
    "# calculate the area as the proportion of values in this range\n",
    "area = np.sum([(avgtime>LL) & (avgtime<UL)]) / len(avgtime)\n",
    "\n",
    "# calculate the height of the shape approximating it as a rectangle since the slice is narrow.\n",
    "height = area / (UL-LL)\n",
    "print(\"height of curve near at the median is : \", height)"
   ]
  },
  {
   "cell_type": "code",
   "execution_count": 18,
   "metadata": {},
   "outputs": [
    {
     "data": {
      "text/plain": [
       "(0.471672513279873, 0.449629887814925)"
      ]
     },
     "execution_count": 18,
     "metadata": {},
     "output_type": "execute_result"
    }
   ],
   "source": [
    "# compare this against theoretical density using stats library\n",
    "height, stats.norm.pdf(mu,loc=mu,scale=s)"
   ]
  },
  {
   "cell_type": "code",
   "execution_count": 19,
   "metadata": {},
   "outputs": [
    {
     "data": {
      "image/png": "[encoded data removed]",
      "text/plain": [
       "<Figure size 432x288 with 1 Axes>"
      ]
     },
     "metadata": {
      "needs_background": "light"
     },
     "output_type": "display_data"
    }
   ],
   "source": [
    "# visualization of e power -0.5*x^2\n",
    "x = np.linspace(-4,4,num=1000)\n",
    "pdf = np.exp(-0.5*(x**2))\n",
    "plt.plot(x,pdf);"
   ]
  },
  {
   "cell_type": "markdown",
   "metadata": {},
   "source": [
    "The probability density function is given by: \n",
    "<img src='normalpdf.png' width=\"300\" height=\"300\" align=\"center\"/>"
   ]
  },
  {
   "cell_type": "code",
   "execution_count": 20,
   "metadata": {},
   "outputs": [
    {
     "name": "stdout",
     "output_type": "stream",
     "text": [
      "0.44962164034481816\n"
     ]
    }
   ],
   "source": [
    "# in an earlier experiment we computed the density or height at the median of our dataset\n",
    "# let us compare that with theoretically calculated density at density\n",
    "x = np.median(avgtime)\n",
    "pdf = 1/(s*np.sqrt(2*np.pi)) * np.exp(-0.5*((x - mu)**2/s**2))\n",
    "print(pdf)"
   ]
  },
  {
   "cell_type": "code",
   "execution_count": 21,
   "metadata": {},
   "outputs": [
    {
     "name": "stdout",
     "output_type": "stream",
     "text": [
      "0.471672513279873\n"
     ]
    }
   ],
   "source": [
    "# this is close to the height we had estimated earlier\n",
    "print(height)"
   ]
  },
  {
   "cell_type": "markdown",
   "metadata": {},
   "source": [
    "So we can understand density as the height of the curve such that the area represents probabilities. And the proportion of values in the dataset give us the area in a range. Hope this helped see serious terms like probability distribution, density and see them as simple counts and proportions that we all can playfully relate to"
   ]
  },
  {
   "cell_type": "markdown",
   "metadata": {},
   "source": [
    "# Experiment: Total working hours\n",
    "In the previous experiment we looked at time taken by staff members to reach their desks\n",
    "In this experiment let us model the total working hours in a similar organization\n",
    "\n",
    "There were n employees in that organization. Let us model these employees working hours using several distributions for fun sake and see how that adds up."
   ]
  },
  {
   "cell_type": "markdown",
   "metadata": {},
   "source": [
    "#### Simulation design: Simple, uniform distributions\n",
    "Let us consider these 7 hour work days where people are observed to put in anywhere between 6 to 9 hours. We can start this with a simple assumption that they are are uniform distributions, meaning any number in this range has equal probability of occuring."
   ]
  },
  {
   "cell_type": "code",
   "execution_count": 22,
   "metadata": {},
   "outputs": [
    {
     "data": {
      "text/plain": [
       "array([7.30382336, 6.61073723, 6.34769015, 6.08817178, 7.68549443])"
      ]
     },
     "execution_count": 22,
     "metadata": {},
     "output_type": "execute_result"
    }
   ],
   "source": [
    "LL = 6\n",
    "UL = 9\n",
    "# Let us see how this output is for 5 employees for one day\n",
    "np.random.uniform(LL,UL,5)"
   ]
  },
  {
   "cell_type": "code",
   "execution_count": 23,
   "metadata": {},
   "outputs": [
    {
     "data": {
      "text/plain": [
       "array([[6.62704245, 6.05910528, 7.59063795, 7.62114371, 8.59753579],\n",
       "       [6.07177527, 7.87006996, 8.52441435, 7.78099161, 6.2542077 ]])"
      ]
     },
     "execution_count": 23,
     "metadata": {},
     "output_type": "execute_result"
    }
   ],
   "source": [
    "# Let us see how this output is for 5 employees for a week of two working days\n",
    "np.random.uniform(LL,UL,10).reshape(2,5)"
   ]
  },
  {
   "cell_type": "code",
   "execution_count": 24,
   "metadata": {},
   "outputs": [
    {
     "data": {
      "text/plain": [
       "array([40.73297798, 33.29024224])"
      ]
     },
     "execution_count": 24,
     "metadata": {},
     "output_type": "execute_result"
    }
   ],
   "source": [
    "# Let us total the working hours across these 5 employees for each day\n",
    "np.sum(np.random.uniform(LL,UL,10).reshape(2,5), axis=1)"
   ]
  },
  {
   "cell_type": "code",
   "execution_count": 25,
   "metadata": {},
   "outputs": [],
   "source": [
    "# now that we have the basic pattern in place let us scale this to get total working hours for wd days for n employees\n",
    "n = 10000\n",
    "wd = 200\n",
    "data = np.sum(np.random.uniform(LL,UL,n*wd).reshape(wd,n), axis=1)"
   ]
  },
  {
   "cell_type": "code",
   "execution_count": 26,
   "metadata": {},
   "outputs": [
    {
     "data": {
      "text/plain": [
       "(200,)"
      ]
     },
     "execution_count": 26,
     "metadata": {},
     "output_type": "execute_result"
    }
   ],
   "source": [
    "# this contains the total working hours for n employees for wd days\n",
    "data.shape"
   ]
  },
  {
   "cell_type": "code",
   "execution_count": 27,
   "metadata": {},
   "outputs": [
    {
     "data": {
      "image/png": "[encoded data removed]",
      "text/plain": [
       "<Figure size 432x288 with 1 Axes>"
      ]
     },
     "metadata": {
      "needs_background": "light"
     },
     "output_type": "display_data"
    }
   ],
   "source": [
    "# let us see the shape of this data\n",
    "plt.hist(data, bins = 10);"
   ]
  },
  {
   "cell_type": "code",
   "execution_count": 28,
   "metadata": {},
   "outputs": [
    {
     "data": {
      "image/png": "[encoded data removed]",
      "text/plain": [
       "<Figure size 360x360 with 1 Axes>"
      ]
     },
     "metadata": {
      "needs_background": "light"
     },
     "output_type": "display_data"
    }
   ],
   "source": [
    "sns.displot(data, kind='kde');"
   ]
  },
  {
   "cell_type": "code",
   "execution_count": 29,
   "metadata": {},
   "outputs": [
    {
     "data": {
      "text/plain": [
       "ShapiroResult(statistic=0.9943199753761292, pvalue=0.6484100818634033)"
      ]
     },
     "execution_count": 29,
     "metadata": {},
     "output_type": "execute_result"
    }
   ],
   "source": [
    "# shapiro normality test\n",
    "# Ho: data is normally distributed vs Ha: data is not normally distributed\n",
    "stats.shapiro(data)"
   ]
  },
  {
   "cell_type": "markdown",
   "metadata": {},
   "source": [
    "#### awesome right?\n",
    "the p-value above 0.05 here means we do not reject the null hypothesis and in simple terms, data is normally distributed\n",
    "Note, we have just wd = 200 here. If it was a higher number like 10000 the curve will be even more bell-ish"
   ]
  },
  {
   "cell_type": "markdown",
   "metadata": {},
   "source": [
    "### simulation design: hash of various distributions\n",
    "This time let us make the data generation process more complex by assuming employee working hours follow many known distributions\n"
   ]
  },
  {
   "cell_type": "code",
   "execution_count": 30,
   "metadata": {},
   "outputs": [
    {
     "data": {
      "text/plain": [
       "((2000, 200), (2000, 200), (2000, 200), (2000, 200), (2000, 200))"
      ]
     },
     "execution_count": 30,
     "metadata": {},
     "output_type": "execute_result"
    }
   ],
   "source": [
    "# each row here represents 1/5 th of the n employees\n",
    "# for each of these 5 categories we select a popular distribution\n",
    "# effectively each row generates data for n/5 employees for wd days \n",
    "\n",
    "n = 10000\n",
    "wd = 200\n",
    "LL=6\n",
    "UL=9\n",
    "datasize = int(n*wd/5)\n",
    "# type 1: uniform distribution\n",
    "data1 = np.random.uniform(LL,UL,datasize).reshape(-1,wd)\n",
    "# type 2: binomial distribution\n",
    "data2 = np.random.binomial(UL, 0.8, size=datasize).reshape(-1,wd)\n",
    "# type 3: poisson distribution\n",
    "data3 = np.random.poisson(lam=(UL+LL)/2,size = datasize).reshape(-1,wd)\n",
    "# type 4: chisquare distribution\n",
    "data4 = np.random.chisquare(df=(UL+LL)/2,size = datasize).reshape(-1,wd)\n",
    "# type 5: skewed normal distribution\n",
    "data5 = stats.skewnorm.rvs(loc=LL,a=2,size=datasize).reshape(-1,wd)\n",
    "\n",
    "data1.shape, data2.shape, data3.shape, data4.shape, data5.shape"
   ]
  },
  {
   "cell_type": "code",
   "execution_count": 31,
   "metadata": {},
   "outputs": [
    {
     "data": {
      "text/plain": [
       "(200,)"
      ]
     },
     "execution_count": 31,
     "metadata": {},
     "output_type": "execute_result"
    }
   ],
   "source": [
    "# consolidate into one dataset for wd days\n",
    "data = np.sum(data1 + data2 + data3 + data4 + data5, axis=0)\n",
    "data.shape # "
   ]
  },
  {
   "cell_type": "code",
   "execution_count": 32,
   "metadata": {},
   "outputs": [
    {
     "data": {
      "image/png": "[encoded data removed]",
      "text/plain": [
       "<Figure size 432x288 with 1 Axes>"
      ]
     },
     "metadata": {
      "needs_background": "light"
     },
     "output_type": "display_data"
    }
   ],
   "source": [
    "# let us see the shape of this data\n",
    "plt.hist(data, bins = 10);"
   ]
  },
  {
   "cell_type": "code",
   "execution_count": 33,
   "metadata": {},
   "outputs": [
    {
     "data": {
      "image/png": "[encoded data removed]",
      "text/plain": [
       "<Figure size 360x360 with 1 Axes>"
      ]
     },
     "metadata": {
      "needs_background": "light"
     },
     "output_type": "display_data"
    }
   ],
   "source": [
    "sns.displot(data, kind='kde');"
   ]
  },
  {
   "cell_type": "code",
   "execution_count": 34,
   "metadata": {},
   "outputs": [
    {
     "data": {
      "text/plain": [
       "ShapiroResult(statistic=0.9902693629264832, pvalue=0.1955662965774536)"
      ]
     },
     "execution_count": 34,
     "metadata": {},
     "output_type": "execute_result"
    }
   ],
   "source": [
    "# shapiro normality test\n",
    "# Ho: data is normally distributed vs Ha: data is not normally distributed\n",
    "stats.shapiro(data)"
   ]
  },
  {
   "cell_type": "code",
   "execution_count": 35,
   "metadata": {},
   "outputs": [],
   "source": [
    "# this is also normally distributed"
   ]
  },
  {
   "cell_type": "code",
   "execution_count": null,
   "metadata": {},
   "outputs": [],
   "source": []
  }
 ],
 "metadata": {
  "kernelspec": {
   "display_name": "Python 3",
   "language": "python",
   "name": "python3"
  },
  "language_info": {
   "codemirror_mode": {
    "name": "ipython",
    "version": 3
   },
   "file_extension": ".py",
   "mimetype": "text/x-python",
   "name": "python",
   "nbconvert_exporter": "python",
   "pygments_lexer": "ipython3",
   "version": "3.8.8"
  }
 },
 "nbformat": 4,
 "nbformat_minor": 2
}
